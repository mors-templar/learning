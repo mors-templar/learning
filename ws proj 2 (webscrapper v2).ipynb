{
 "cells": [
  {
   "cell_type": "markdown",
   "id": "84898a9f",
   "metadata": {},
   "source": [
    "## take the link associated with the article and find the Author Name,Publish Date and Time using that store data in a an arrray \n",
    "optional: store data in an df and create a excel file "
   ]
  },
  {
   "cell_type": "code",
   "execution_count": 1,
   "id": "7f875a4c",
   "metadata": {},
   "outputs": [],
   "source": [
    "from bs4 import BeautifulSoup\n",
    "import requests"
   ]
  },
  {
   "cell_type": "code",
   "execution_count": 2,
   "id": "d3b4de9a",
   "metadata": {},
   "outputs": [],
   "source": [
    "titles = []\n",
    "article_links = []  \n",
    "images = [] \n",
    "author = [] \n",
    "date = []\n",
    "url = \"https://www.dawn.com/\"\n",
    "response = requests.get(url)"
   ]
  },
  {
   "cell_type": "code",
   "execution_count": 3,
   "id": "53b2c848",
   "metadata": {},
   "outputs": [],
   "source": [
    "soup = BeautifulSoup(response.text ,  'html.parser' )"
   ]
  },
  {
   "cell_type": "code",
   "execution_count": 4,
   "id": "9a00bafb",
   "metadata": {},
   "outputs": [],
   "source": [
    "articles =soup.find_all(\"article\",attrs={\"class\":\"story\"})"
   ]
  },
  {
   "cell_type": "code",
   "execution_count": 5,
   "id": "8d775ff6",
   "metadata": {},
   "outputs": [],
   "source": [
    "counter = len(articles)"
   ]
  },
  {
   "cell_type": "code",
   "execution_count": 6,
   "id": "b9091eff",
   "metadata": {},
   "outputs": [],
   "source": [
    "for article in articles:\n",
    "    titles.append(article.find('a').text)\n",
    "    article_links.append(article.find('a')['href'])\n",
    "    if article.find('img'):\n",
    "        images.append(article.find('img')['src'])\n",
    "    else:\n",
    "        images.append('')\n"
   ]
  },
  {
   "cell_type": "code",
   "execution_count": 12,
   "id": "c7fca06c",
   "metadata": {},
   "outputs": [],
   "source": [
    "for x in range(0,counter):\n",
    "    url = article_links[x]\n",
    "    response = requests.get(url)\n",
    "    soup = BeautifulSoup(response.text ,  'html.parser' )\n",
    "    var1 = soup.find_all(\"a\",attrs={\"class\":\"story__byline__link\"})\n",
    "    var =soup.find_all(\"span\",attrs={\"class\":\"timestamp--date\"})\n",
    "    if var1:\n",
    "        author.append(var1)\n",
    "        author[x] = var1[0].text    \n",
    "    else:\n",
    "        author.append('')\n",
    "    if var:\n",
    "        date.append(var)\n",
    "        date[x] = var[0].text    \n",
    "    else:\n",
    "        date.append('')"
   ]
  },
  {
   "cell_type": "markdown",
   "id": "8089e592",
   "metadata": {},
   "source": [
    "# small test code "
   ]
  },
  {
   "cell_type": "code",
   "execution_count": null,
   "id": "c532e38b",
   "metadata": {},
   "outputs": [],
   "source": [
    "for x in range(0,15):\n",
    "    url = article_links[x]\n",
    "    response = requests.get(url)\n",
    "    soup = BeautifulSoup(response.text ,  'html.parser' )\n",
    "    var1 = soup.find_all(\"a\",attrs={\"class\":\"story__byline__link\"})\n",
    "    var =soup.find_all(\"span\",attrs={\"class\":\"timestamp--date\"})\n",
    "    if var1:\n",
    "        author.append(var1)\n",
    "        author[x] = var1[0].text    \n",
    "    else:\n",
    "        author.append('')\n",
    "    if var:\n",
    "        date.append(var)\n",
    "        date[x] = var[0].text    \n",
    "    else:\n",
    "        date.append('')\n",
    "\n",
    "print(date)\n",
    "print(author)"
   ]
  },
  {
   "cell_type": "code",
   "execution_count": 9,
   "id": "2c81a2a6",
   "metadata": {},
   "outputs": [],
   "source": [
    "import pandas as pd\n",
    "data = pd.DataFrame({'title':titles,'Author':author,'Publish Date':date,'URL':article_links})"
   ]
  },
  {
   "cell_type": "code",
   "execution_count": 10,
   "id": "ee04ec71",
   "metadata": {},
   "outputs": [
    {
     "data": {
      "text/html": [
       "<div>\n",
       "<style scoped>\n",
       "    .dataframe tbody tr th:only-of-type {\n",
       "        vertical-align: middle;\n",
       "    }\n",
       "\n",
       "    .dataframe tbody tr th {\n",
       "        vertical-align: top;\n",
       "    }\n",
       "\n",
       "    .dataframe thead th {\n",
       "        text-align: right;\n",
       "    }\n",
       "</style>\n",
       "<table border=\"1\" class=\"dataframe\">\n",
       "  <thead>\n",
       "    <tr style=\"text-align: right;\">\n",
       "      <th></th>\n",
       "      <th>title</th>\n",
       "      <th>Author</th>\n",
       "      <th>Publish Date</th>\n",
       "      <th>URL</th>\n",
       "    </tr>\n",
       "  </thead>\n",
       "  <tbody>\n",
       "    <tr>\n",
       "      <th>0</th>\n",
       "      <td>Qatar World Cup starts with stakes high for hosts</td>\n",
       "      <td></td>\n",
       "      <td></td>\n",
       "      <td>https://www.dawn.com/news/1722062/qatar-world-...</td>\n",
       "    </tr>\n",
       "    <tr>\n",
       "      <th>1</th>\n",
       "      <td>'Backdoor negotiations' underway with Presiden...</td>\n",
       "      <td></td>\n",
       "      <td></td>\n",
       "      <td>https://www.dawn.com/news/1717321/backdoor-neg...</td>\n",
       "    </tr>\n",
       "    <tr>\n",
       "      <th>2</th>\n",
       "      <td>7 injured near Kurram border following firing ...</td>\n",
       "      <td>Javid Hussain</td>\n",
       "      <td>November 20, 2022</td>\n",
       "      <td>https://www.dawn.com/news/1722079/7-injured-ne...</td>\n",
       "    </tr>\n",
       "    <tr>\n",
       "      <th>3</th>\n",
       "      <td>Residents protest over abduction of two wrestl...</td>\n",
       "      <td>Malik Irfanul Haq</td>\n",
       "      <td></td>\n",
       "      <td>https://www.dawn.com/news/1722082/residents-pr...</td>\n",
       "    </tr>\n",
       "    <tr>\n",
       "      <th>4</th>\n",
       "      <td>Ukraine nuclear plant shelled, UN warns: ‘You’...</td>\n",
       "      <td></td>\n",
       "      <td>November 20, 2022</td>\n",
       "      <td>https://www.dawn.com/news/1722084/ukraine-nucl...</td>\n",
       "    </tr>\n",
       "  </tbody>\n",
       "</table>\n",
       "</div>"
      ],
      "text/plain": [
       "                                               title             Author  \\\n",
       "0  Qatar World Cup starts with stakes high for hosts                      \n",
       "1  'Backdoor negotiations' underway with Presiden...                      \n",
       "2  7 injured near Kurram border following firing ...      Javid Hussain   \n",
       "3  Residents protest over abduction of two wrestl...  Malik Irfanul Haq   \n",
       "4  Ukraine nuclear plant shelled, UN warns: ‘You’...                      \n",
       "\n",
       "        Publish Date                                                URL  \n",
       "0                     https://www.dawn.com/news/1722062/qatar-world-...  \n",
       "1                     https://www.dawn.com/news/1717321/backdoor-neg...  \n",
       "2  November 20, 2022  https://www.dawn.com/news/1722079/7-injured-ne...  \n",
       "3                     https://www.dawn.com/news/1722082/residents-pr...  \n",
       "4  November 20, 2022  https://www.dawn.com/news/1722084/ukraine-nucl...  "
      ]
     },
     "execution_count": 10,
     "metadata": {},
     "output_type": "execute_result"
    }
   ],
   "source": [
    "data.head()"
   ]
  },
  {
   "cell_type": "code",
   "execution_count": 11,
   "id": "ba4537e2",
   "metadata": {},
   "outputs": [],
   "source": [
    "data.to_csv('articles.csv')"
   ]
  },
  {
   "cell_type": "code",
   "execution_count": null,
   "id": "8997271b",
   "metadata": {},
   "outputs": [],
   "source": []
  }
 ],
 "metadata": {
  "kernelspec": {
   "display_name": "Python 3 (ipykernel)",
   "language": "python",
   "name": "python3"
  },
  "language_info": {
   "codemirror_mode": {
    "name": "ipython",
    "version": 3
   },
   "file_extension": ".py",
   "mimetype": "text/x-python",
   "name": "python",
   "nbconvert_exporter": "python",
   "pygments_lexer": "ipython3",
   "version": "3.9.12"
  }
 },
 "nbformat": 4,
 "nbformat_minor": 5
}
