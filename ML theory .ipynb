{
 "cells": [
  {
   "cell_type": "markdown",
   "id": "4736418f",
   "metadata": {},
   "source": [
    "1. title\n",
    "2. summary \n",
    "3. data characteristics\n",
    "4. data analysis = shown via graphs and data visulisation "
   ]
  },
  {
   "cell_type": "markdown",
   "id": "53f8ff4d",
   "metadata": {},
   "source": [
    "(from: introduction to statistical learning)"
   ]
  },
  {
   "cell_type": "markdown",
   "id": "a944dc57",
   "metadata": {},
   "source": [
    "# what is machine learning\n",
    "\n",
    "data analysis methord which automates model building. \n",
    "                    or\n",
    "uses algorithms to iteratively learn from data.\n",
    "                    or \n",
    "data driven intellegent program \n",
    "eg)\n",
    "\n",
    "fraud detection: google detecting whether a mail is spam/dangerous/phishing (this is the data collection and analysis stage) using this it learns (this is the learning stage)."
   ]
  },
  {
   "cell_type": "markdown",
   "id": "5f5d01f1",
   "metadata": {},
   "source": [
    "# machine learning cycle\n",
    "\n",
    "first: data acquisition: acquire the data "
   ]
  },
  {
   "cell_type": "markdown",
   "id": "58340bbc",
   "metadata": {},
   "source": [
    "seond: data cleaning: cleaning the data by dealing with the number of coloumns,null values,outliers removal.\n",
    "methods applied\n",
    "\n",
    "1)fill in missing values\n",
    "\n",
    "2)categorical conversion (making appropriate data)\n",
    "\n",
    "3)PCA (dimension reduction)\n",
    "\n",
    "4)peason correlation (feature selection)"
   ]
  },
  {
   "cell_type": "markdown",
   "id": "e7547a6c",
   "metadata": {},
   "source": [
    "third: model training and building \n",
    "\n",
    "we divide the data into two \n",
    "\n",
    "1) training : train the model on the data to 'train' it to learn what we are teaching it\n",
    "\n",
    "2) testing: provide it with data which its supposed to apply the learnt information to find accuracy \n",
    "\n",
    "two types of testing training models\n",
    "\n",
    "1) supervised learning: the input and outputs of all data are known for train and test\n",
    "    2 methods for this \n",
    "    \n",
    "    1) regression: when output column contains continuous values\n",
    "    models: linear regression , KNN regression , DecisionTrees, RandomForest, Naive Bayes\n",
    "            eg) -price prediction \n",
    "                -salary estimation \n",
    "                -temprature forecasting\n",
    "                -age prediction\n",
    "\n",
    "    2) classification: when output contains discrete values\n",
    "    models: logistic Regression, KNN, RandomForest, DecisionTrees \n",
    "            eg) -cancer detection\n",
    "                -survival\n",
    "                -type of disease \n",
    "                -gender detection\n",
    "   \n",
    "\n",
    "all these use patterns to figure something out"
   ]
  },
  {
   "cell_type": "markdown",
   "id": "5227dfe6",
   "metadata": {},
   "source": [
    "2) unsupervised learning: the outputs arent known but groups based on similar attributes\n",
    "    eg) -customer segmentation\n",
    "        -google photos group by people in pic \n",
    "        "
   ]
  },
  {
   "cell_type": "markdown",
   "id": "ec482ad7",
   "metadata": {},
   "source": [
    "# linear regression \n"
   ]
  }
 ],
 "metadata": {
  "kernelspec": {
   "display_name": "Python 3 (ipykernel)",
   "language": "python",
   "name": "python3"
  },
  "language_info": {
   "codemirror_mode": {
    "name": "ipython",
    "version": 3
   },
   "file_extension": ".py",
   "mimetype": "text/x-python",
   "name": "python",
   "nbconvert_exporter": "python",
   "pygments_lexer": "ipython3",
   "version": "3.9.12"
  }
 },
 "nbformat": 4,
 "nbformat_minor": 5
}
