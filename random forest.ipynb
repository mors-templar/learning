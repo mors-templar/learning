{
 "cells": [
  {
   "cell_type": "markdown",
   "id": "e8f467c7",
   "metadata": {},
   "source": [
    "# Random Forest \n",
    "\n"
   ]
  },
  {
   "cell_type": "markdown",
   "id": "2dfe009f",
   "metadata": {},
   "source": [
    "random forest creates multiple trees (called estimator) the estimators is the instance of trees which is a forest. the forest is evaluated based on the the estimator number."
   ]
  },
  {
   "cell_type": "code",
   "execution_count": 16,
   "id": "0a4fca9c",
   "metadata": {
    "scrolled": true
   },
   "outputs": [
    {
     "data": {
      "text/plain": [
       "<bound method DataFrame.info of         property_type     price  city   latitude  longitude  baths  purpose  \\\n",
       "0                   0  10000000     0  33.679890  73.012640      2        0   \n",
       "1                   0   6900000     0  33.700993  72.971492      3        0   \n",
       "2                   1  16500000     0  33.631486  72.926559      6        0   \n",
       "3                   1  43500000     0  33.707573  73.151199      4        0   \n",
       "4                   1   7000000     0  33.492591  73.301339      3        0   \n",
       "...               ...       ...   ...        ...        ...    ...      ...   \n",
       "168441              1  26500000     4  25.029909  67.137192      0        0   \n",
       "168442              1  12500000     4  25.017951  67.136393      0        0   \n",
       "168443              1  27000000     4  25.015384  67.116330      0        0   \n",
       "168444              1  11000000     4  25.013265  67.120818      0        0   \n",
       "168445              1   9000000     4  25.113565  67.353811      3        0   \n",
       "\n",
       "        bedrooms  Total_Area  \n",
       "0              2    1089.004  \n",
       "1              3   15246.056  \n",
       "2              5    2178.008  \n",
       "3              4   10890.000  \n",
       "4              3    2178.008  \n",
       "...          ...         ...  \n",
       "168441         6   26136.096  \n",
       "168442         3    2178.008  \n",
       "168443         6   26136.096  \n",
       "168444         3   21235.578  \n",
       "168445         3   25591.594  \n",
       "\n",
       "[168446 rows x 9 columns]>"
      ]
     },
     "execution_count": 16,
     "metadata": {},
     "output_type": "execute_result"
    }
   ],
   "source": [
    "import matplotlib.pyplot as plt \n",
    "import pandas as pd \n",
    "import seaborn as sns \n",
    "df = pd.read_csv(r'D:\\datasets\\archive\\Entities.csv')\n",
    "df = df.drop([ \"Unnamed: 0\",\"property_id\",\"location_id\",\"page_url\",\"date_added\",\"agent\",\"agency\"],axis = 1)\n",
    "df['property_type'] = df['property_type'].replace({'Flat':0, 'House':1, 'Penthouse':2, 'Farm House':3, 'Lower Portion':4,\n",
    "                             'Upper Portion':5, 'Room':6})\n",
    "df['city'] = df['city'].replace({'Islamabad':0, 'Lahore':1, 'Faisalabad':2, 'Rawalpindi':3, 'Karachi':4})\n",
    "df = df.drop(['location','province_name'],axis = 1)\n",
    "df['purpose'] = df['purpose'].replace({'For Sale':0, 'For Rent':1})\n",
    "df.info"
   ]
  },
  {
   "cell_type": "code",
   "execution_count": 17,
   "id": "7e50cf2d",
   "metadata": {},
   "outputs": [],
   "source": [
    "from sklearn.ensemble import RandomForestClassifier"
   ]
  },
  {
   "cell_type": "code",
   "execution_count": 18,
   "id": "e301ea70",
   "metadata": {},
   "outputs": [],
   "source": [
    "x = df.drop(['price'], axis = 1)\n",
    "y = df['price']\n",
    "from sklearn.model_selection import train_test_split\n",
    "X_train,X_test,y_train,y_test = train_test_split(x,y,test_size=0.3)\n"
   ]
  },
  {
   "cell_type": "code",
   "execution_count": 19,
   "id": "0561246f",
   "metadata": {},
   "outputs": [],
   "source": [
    "\n",
    "# importing random forest classifier from assemble module\n",
    "from sklearn.ensemble import RandomForestRegressor"
   ]
  },
  {
   "cell_type": "code",
   "execution_count": 30,
   "id": "a2c2f8f4",
   "metadata": {},
   "outputs": [],
   "source": [
    "rf = RandomForestRegressor(n_estimators = 100)  # n_estimators, high is better "
   ]
  },
  {
   "cell_type": "code",
   "execution_count": 31,
   "id": "398f57a3",
   "metadata": {},
   "outputs": [
    {
     "data": {
      "text/plain": [
       "RandomForestRegressor()"
      ]
     },
     "execution_count": 31,
     "metadata": {},
     "output_type": "execute_result"
    }
   ],
   "source": [
    "rf.fit(X_train, y_train)"
   ]
  },
  {
   "cell_type": "code",
   "execution_count": 32,
   "id": "c2e74612",
   "metadata": {},
   "outputs": [],
   "source": [
    "y_pred = rf.predict(X_test)"
   ]
  },
  {
   "cell_type": "code",
   "execution_count": 33,
   "id": "7edcae5e",
   "metadata": {},
   "outputs": [],
   "source": [
    "from sklearn.metrics import mean_absolute_error"
   ]
  },
  {
   "cell_type": "code",
   "execution_count": 34,
   "id": "d8b6c9cd",
   "metadata": {},
   "outputs": [
    {
     "data": {
      "text/plain": [
       "3455928.5442309515"
      ]
     },
     "execution_count": 34,
     "metadata": {},
     "output_type": "execute_result"
    }
   ],
   "source": [
    "mean_absolute_error(y_pred , y_test)"
   ]
  }
 ],
 "metadata": {
  "kernelspec": {
   "display_name": "Python 3 (ipykernel)",
   "language": "python",
   "name": "python3"
  },
  "language_info": {
   "codemirror_mode": {
    "name": "ipython",
    "version": 3
   },
   "file_extension": ".py",
   "mimetype": "text/x-python",
   "name": "python",
   "nbconvert_exporter": "python",
   "pygments_lexer": "ipython3",
   "version": "3.9.12"
  }
 },
 "nbformat": 4,
 "nbformat_minor": 5
}
