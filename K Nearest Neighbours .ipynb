{
 "cells": [
  {
   "cell_type": "markdown",
   "id": "698a6a7b",
   "metadata": {},
   "source": [
    "KNN is a classification algorithm (deals with discrete data and continuous data)\n",
    "\n",
    "KNN plots all data and then plots a DATAPOINT to check whether the majority of the neighbours are of what class\n",
    "\n",
    "KNN the algorithm takes a input find the distance from its neighbours, after finding the diffrence it plots the x values, it takes and average of thier outputs and finds the approximate answer "
   ]
  },
  {
   "cell_type": "markdown",
   "id": "7033cee1",
   "metadata": {},
   "source": [
    "# KNN with old dataset\n"
   ]
  },
  {
   "cell_type": "code",
   "execution_count": 14,
   "id": "956d6ca5",
   "metadata": {},
   "outputs": [],
   "source": [
    "import matplotlib.pyplot as plt \n",
    "import pandas as pd \n",
    "import seaborn as sns \n",
    "df = pd.read_csv(r'D:\\datasets\\archive\\Entities.csv')\n",
    "df = df.drop([ \"Unnamed: 0\",\"property_id\",\"location_id\",\"page_url\",\"date_added\",\"agent\",\"agency\"],axis = 1)\n",
    "df['property_type'] = df['property_type'].replace({'Flat':0, 'House':1, 'Penthouse':2, 'Farm House':3, 'Lower Portion':4,\n",
    "                             'Upper Portion':5, 'Room':6})\n",
    "df['city'] = df['city'].replace({'Islamabad':0, 'Lahore':1, 'Faisalabad':2, 'Rawalpindi':3, 'Karachi':4})\n",
    "df = df.drop(['location','province_name'],axis = 1)\n",
    "df['purpose'] = df['purpose'].replace({'For Sale':0, 'For Rent':1})\n",
    "\n"
   ]
  },
  {
   "cell_type": "code",
   "execution_count": 15,
   "id": "55c7575d",
   "metadata": {},
   "outputs": [],
   "source": [
    "from sklearn.neighbors import KNeighborsRegressor "
   ]
  },
  {
   "cell_type": "code",
   "execution_count": 16,
   "id": "2e2b702d",
   "metadata": {},
   "outputs": [],
   "source": [
    "knn = KNeighborsRegressor(n_neighbors=3)"
   ]
  },
  {
   "cell_type": "code",
   "execution_count": 17,
   "id": "5f86841d",
   "metadata": {},
   "outputs": [
    {
     "data": {
      "text/plain": [
       "KNeighborsRegressor(n_neighbors=3)"
      ]
     },
     "execution_count": 17,
     "metadata": {},
     "output_type": "execute_result"
    }
   ],
   "source": [
    "x = df.drop(['price'], axis = 1)\n",
    "y = df['price']\n",
    "from sklearn.model_selection import train_test_split\n",
    "X_train,X_test,y_train,y_test = train_test_split(x,y,test_size=0.3)\n",
    "\n",
    "\n",
    "knn.fit(X_train,y_train)"
   ]
  },
  {
   "cell_type": "code",
   "execution_count": 18,
   "id": "612e40b7",
   "metadata": {},
   "outputs": [],
   "source": [
    "# evaluation \n",
    "\n",
    "y_pred_knn = knn.predict(X_test)"
   ]
  },
  {
   "cell_type": "code",
   "execution_count": 21,
   "id": "6ad91088",
   "metadata": {},
   "outputs": [
    {
     "data": {
      "text/plain": [
       "4684964.369579557"
      ]
     },
     "execution_count": 21,
     "metadata": {},
     "output_type": "execute_result"
    }
   ],
   "source": [
    "from sklearn.metrics import mean_absolute_error\n",
    "mean_absolute_error(y_test,y_pred_knn)"
   ]
  },
  {
   "cell_type": "markdown",
   "id": "e4f381ab",
   "metadata": {},
   "source": [
    "### this is an improved result but can imporve more by changing K"
   ]
  },
  {
   "cell_type": "markdown",
   "id": "0a9f0095",
   "metadata": {},
   "source": [
    "# ELBOW METHOD \n",
    "## inc dec accuracy "
   ]
  },
  {
   "cell_type": "code",
   "execution_count": 24,
   "id": "a6129b2b",
   "metadata": {},
   "outputs": [],
   "source": [
    "error = [4684964.44]\n",
    "for i in range(1,30):\n",
    "    knn = KNeighborsRegressor(n_neighbors=i)\n",
    "    knn.fit(X_train,y_train)\n",
    "    y_pred_knn = knn.predict(X_test)\n",
    "    error.append(mean_absolute_error(y_test,y_pred_knn))"
   ]
  },
  {
   "cell_type": "code",
   "execution_count": 25,
   "id": "fd441cba",
   "metadata": {},
   "outputs": [
    {
     "data": {
      "text/plain": [
       "30"
      ]
     },
     "execution_count": 25,
     "metadata": {},
     "output_type": "execute_result"
    }
   ],
   "source": [
    "len(error)"
   ]
  },
  {
   "cell_type": "code",
   "execution_count": 26,
   "id": "0132513d",
   "metadata": {},
   "outputs": [
    {
     "data": {
      "text/plain": [
       "30"
      ]
     },
     "execution_count": 26,
     "metadata": {},
     "output_type": "execute_result"
    }
   ],
   "source": [
    "len(range(30))"
   ]
  },
  {
   "cell_type": "code",
   "execution_count": 27,
   "id": "8aee03d5",
   "metadata": {},
   "outputs": [],
   "source": [
    "import matplotlib.pyplot as plt"
   ]
  },
  {
   "cell_type": "code",
   "execution_count": 28,
   "id": "11dc7347",
   "metadata": {},
   "outputs": [
    {
     "data": {
      "text/plain": [
       "[<matplotlib.lines.Line2D at 0x27d8f0ca040>]"
      ]
     },
     "execution_count": 28,
     "metadata": {},
     "output_type": "execute_result"
    },
    {
     "data": {
      "image/png": "[encoded data removed]",
      "text/plain": [
       "<Figure size 432x288 with 1 Axes>"
      ]
     },
     "metadata": {
      "needs_background": "light"
     },
     "output_type": "display_data"
    }
   ],
   "source": [
    "plt.plot(range(30),error)"
   ]
  },
  {
   "cell_type": "code",
   "execution_count": 30,
   "id": "555e6169",
   "metadata": {},
   "outputs": [
    {
     "data": {
      "text/plain": [
       "2"
      ]
     },
     "execution_count": 30,
     "metadata": {},
     "output_type": "execute_result"
    }
   ],
   "source": [
    "min_error = min(error)\n",
    "error.index(min_error)"
   ]
  },
  {
   "cell_type": "code",
   "execution_count": null,
   "id": "88a13444",
   "metadata": {},
   "outputs": [],
   "source": []
  }
 ],
 "metadata": {
  "kernelspec": {
   "display_name": "Python 3 (ipykernel)",
   "language": "python",
   "name": "python3"
  },
  "language_info": {
   "codemirror_mode": {
    "name": "ipython",
    "version": 3
   },
   "file_extension": ".py",
   "mimetype": "text/x-python",
   "name": "python",
   "nbconvert_exporter": "python",
   "pygments_lexer": "ipython3",
   "version": "3.9.12"
  }
 },
 "nbformat": 4,
 "nbformat_minor": 5
}
