{
 "cells": [
  {
   "cell_type": "markdown",
   "id": "ccc88179",
   "metadata": {},
   "source": [
    "## create 3 lists (titles , article links , images ) and using the articles found add values in the appropriate lists"
   ]
  },
  {
   "cell_type": "code",
   "execution_count": 1,
   "id": "39f72cfd",
   "metadata": {},
   "outputs": [],
   "source": [
    "from bs4 import BeautifulSoup\n",
    "import requests"
   ]
  },
  {
   "cell_type": "code",
   "execution_count": 42,
   "id": "3c2cb618",
   "metadata": {},
   "outputs": [],
   "source": [
    "titles = []\n",
    "article_links = []  \n",
    "images = [] \n",
    "url = \"https://www.dawn.com/\"\n",
    "response = requests.get(url)"
   ]
  },
  {
   "cell_type": "code",
   "execution_count": 43,
   "id": "d4ce7f6e",
   "metadata": {},
   "outputs": [],
   "source": [
    "soup = BeautifulSoup(response.text ,  'html.parser' )"
   ]
  },
  {
   "cell_type": "code",
   "execution_count": 44,
   "id": "ff438daa",
   "metadata": {},
   "outputs": [],
   "source": [
    "articles =soup.find_all(\"article\",attrs={\"class\":\"story\"})"
   ]
  },
  {
   "cell_type": "code",
   "execution_count": 45,
   "id": "6de8f430",
   "metadata": {},
   "outputs": [],
   "source": [
    "counter = len(articles)\n"
   ]
  },
  {
   "cell_type": "code",
   "execution_count": 46,
   "id": "23951b5f",
   "metadata": {},
   "outputs": [],
   "source": [
    "for article in articles:\n",
    "    titles.append(article.find('a').text)\n",
    "    article_links.append(article.find('a')['href'])\n",
    "    if article.find('img'):\n",
    "        images.append(article.find('img')['src'])\n",
    "    else:\n",
    "        images.append('')"
   ]
  },
  {
   "cell_type": "code",
   "execution_count": null,
   "id": "524f720b",
   "metadata": {},
   "outputs": [],
   "source": []
  }
 ],
 "metadata": {
  "kernelspec": {
   "display_name": "Python 3 (ipykernel)",
   "language": "python",
   "name": "python3"
  },
  "language_info": {
   "codemirror_mode": {
    "name": "ipython",
    "version": 3
   },
   "file_extension": ".py",
   "mimetype": "text/x-python",
   "name": "python",
   "nbconvert_exporter": "python",
   "pygments_lexer": "ipython3",
   "version": "3.9.12"
  }
 },
 "nbformat": 4,
 "nbformat_minor": 5
}
