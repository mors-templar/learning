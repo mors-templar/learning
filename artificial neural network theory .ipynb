{
 "cells": [
  {
   "cell_type": "markdown",
   "id": "28b702ed",
   "metadata": {},
   "source": [
    "# deep learning "
   ]
  },
  {
   "cell_type": "markdown",
   "id": "a01831e4",
   "metadata": {},
   "source": [
    "### perceptron model \n",
    "\n",
    "it works based on a the 🧠 model. the model has bunch of layers where each layers does some processing and build upons the working of all the previous layers.\n",
    "\n",
    "if the data is small and in text based format and size of data is small we use a machine learning algorithm else we apply a deep learning algorithm. \n",
    "\n",
    "the model has 3 main layers an input layer a processing layer and a output layer, the proccesing layer is also called a hidden layer and does all the processing where each layer builds upon the efforts of the previous layer refining the output as the data is passed onto the next layer \n"
   ]
  },
  {
   "cell_type": "markdown",
   "id": "27018390",
   "metadata": {},
   "source": [
    "the data is scaled up or scaled down (via multplying the value) to change the value to a smaller less size taking value \n",
    "\n",
    "thus if we had function \n",
    "                                               \n",
    "                                               f(x) = x1 + x2 \n",
    "and x1 and x2 are greater then 500k the sum would be a large incomprehensible value this we can do y = x1(wieghted value) + x2(weighted value) this would allow us to scale the values down to a small,less size taking, comprehensive value.\n",
    "                                               \n",
    "                                               f(x) = w1(x1) + w2(x2)\n",
    "                                               \n",
    "now if we have x1 as 0 and x2 as above 500k and we have scaled data the data value wont make much sense thus we add a ' bias ' value so now the formula changes to \n",
    "                                        \n",
    "                                        f(x) = [a+w1(x1)] + [b+w2(x2)]\n",
    "\n",
    "this bias allows us to change negative values and 0 values to an positve number"
   ]
  },
  {
   "cell_type": "markdown",
   "id": "6c0cd4a8",
   "metadata": {},
   "source": [
    "this process of adding bias and wighted values is a \" activation function \" and is made by the nueral network while processing all the data ensuring that the function works for all the train data "
   ]
  },
  {
   "cell_type": "markdown",
   "id": "347b4da1",
   "metadata": {},
   "source": [
    "# Nueral networks \n",
    "\n",
    "the network can use \n",
    "\n",
    "    1a) step function \n",
    "        it is also called binary cclassification and uses 0 , 1 to give an output, as only 2 outputs possible best used in a classification problem \n",
    "    1b) sigmoid function \n",
    "        as the step function only has 2 outputs 0 , 1 the sigmoid function is used when values between 0-1 also needed as it has a S shape thus its best used in a probability problem \n",
    "    1c) hyperbolic tangent\n",
    "        this function is also in a S shape but starts from -1 and goes till 1 thus can be used to show negative probability as well \n",
    "    1d) Rectified Linear Unit (ReLU)\n",
    "        this function works in linear regression and turns all values in - y as 0 and in +y as in a line "
   ]
  },
  {
   "cell_type": "code",
   "execution_count": null,
   "id": "e30a97c9",
   "metadata": {},
   "outputs": [],
   "source": []
  }
 ],
 "metadata": {
  "kernelspec": {
   "display_name": "Python 3 (ipykernel)",
   "language": "python",
   "name": "python3"
  },
  "language_info": {
   "codemirror_mode": {
    "name": "ipython",
    "version": 3
   },
   "file_extension": ".py",
   "mimetype": "text/x-python",
   "name": "python",
   "nbconvert_exporter": "python",
   "pygments_lexer": "ipython3",
   "version": "3.9.12"
  }
 },
 "nbformat": 4,
 "nbformat_minor": 5
}
